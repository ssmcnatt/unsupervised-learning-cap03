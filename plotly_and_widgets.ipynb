{
 "cells": [
  {
   "cell_type": "code",
   "execution_count": 1,
   "metadata": {},
   "outputs": [
    {
     "data": {
      "application/javascript": [
       "\n",
       "            setTimeout(function() {\n",
       "                var nbb_cell_id = 1;\n",
       "                var nbb_unformatted_code = \"%reload_ext nb_black\";\n",
       "                var nbb_formatted_code = \"%reload_ext nb_black\";\n",
       "                var nbb_cells = Jupyter.notebook.get_cells();\n",
       "                for (var i = 0; i < nbb_cells.length; ++i) {\n",
       "                    if (nbb_cells[i].input_prompt_number == nbb_cell_id) {\n",
       "                        if (nbb_cells[i].get_text() == nbb_unformatted_code) {\n",
       "                             nbb_cells[i].set_text(nbb_formatted_code);\n",
       "                        }\n",
       "                        break;\n",
       "                    }\n",
       "                }\n",
       "            }, 500);\n",
       "            "
      ],
      "text/plain": [
       "<IPython.core.display.Javascript object>"
      ]
     },
     "metadata": {},
     "output_type": "display_data"
    }
   ],
   "source": [
    "%reload_ext nb_black"
   ]
  },
  {
   "cell_type": "code",
   "execution_count": 2,
   "metadata": {},
   "outputs": [
    {
     "data": {
      "application/javascript": [
       "\n",
       "            setTimeout(function() {\n",
       "                var nbb_cell_id = 2;\n",
       "                var nbb_unformatted_code = \"import pandas as pd\\nimport numpy as np\\n\\nfrom sklearn.preprocessing import StandardScaler\\nfrom sklearn.cluster import KMeans, DBSCAN\\n\\nfrom sklearn.decomposition import PCA\\nfrom sklearn.manifold import TSNE\\n\\nfrom umap import UMAP\\n\\nfrom prince import MCA, FAMD\\n\\n# These are the subject of today.\\n# The rest are some common suspects from DR and clustering weeks\\nimport plotly.express as px\\nfrom ipywidgets import interact\\n\\nimport seaborn as sns\\nimport matplotlib.pyplot as plt\\n\\n%matplotlib inline\";\n",
       "                var nbb_formatted_code = \"import pandas as pd\\nimport numpy as np\\n\\nfrom sklearn.preprocessing import StandardScaler\\nfrom sklearn.cluster import KMeans, DBSCAN\\n\\nfrom sklearn.decomposition import PCA\\nfrom sklearn.manifold import TSNE\\n\\nfrom umap import UMAP\\n\\nfrom prince import MCA, FAMD\\n\\n# These are the subject of today.\\n# The rest are some common suspects from DR and clustering weeks\\nimport plotly.express as px\\nfrom ipywidgets import interact\\n\\nimport seaborn as sns\\nimport matplotlib.pyplot as plt\\n\\n%matplotlib inline\";\n",
       "                var nbb_cells = Jupyter.notebook.get_cells();\n",
       "                for (var i = 0; i < nbb_cells.length; ++i) {\n",
       "                    if (nbb_cells[i].input_prompt_number == nbb_cell_id) {\n",
       "                        if (nbb_cells[i].get_text() == nbb_unformatted_code) {\n",
       "                             nbb_cells[i].set_text(nbb_formatted_code);\n",
       "                        }\n",
       "                        break;\n",
       "                    }\n",
       "                }\n",
       "            }, 500);\n",
       "            "
      ],
      "text/plain": [
       "<IPython.core.display.Javascript object>"
      ]
     },
     "metadata": {},
     "output_type": "display_data"
    }
   ],
   "source": [
    "import pandas as pd\n",
    "import numpy as np\n",
    "\n",
    "from sklearn.preprocessing import StandardScaler\n",
    "from sklearn.cluster import KMeans, DBSCAN\n",
    "\n",
    "from sklearn.decomposition import PCA\n",
    "from sklearn.manifold import TSNE\n",
    "\n",
    "from umap import UMAP\n",
    "\n",
    "from prince import MCA, FAMD\n",
    "\n",
    "# These are the subject of today.\n",
    "# The rest are some common suspects from DR and clustering weeks\n",
    "import plotly.express as px\n",
    "from ipywidgets import interact\n",
    "\n",
    "import seaborn as sns\n",
    "import matplotlib.pyplot as plt\n",
    "\n",
    "%matplotlib inline"
   ]
  },
  {
   "cell_type": "markdown",
   "metadata": {},
   "source": [
    "## ipywidget recipes:\n",
    "\n",
    "good resource with examples [here](https://towardsdatascience.com/interactive-controls-for-jupyter-notebooks-f5c94829aee6)\n",
    "\n",
    "### Very general process"
   ]
  },
  {
   "cell_type": "code",
   "execution_count": 3,
   "metadata": {},
   "outputs": [
    {
     "data": {
      "application/vnd.jupyter.widget-view+json": {
       "model_id": "dc1de999f61e465d8510fc274bcc0db2",
       "version_major": 2,
       "version_minor": 0
      },
      "text/plain": [
       "interactive(children=(Text(value='text input', description='text'), Dropdown(description='select', options=('o…"
      ]
     },
     "metadata": {},
     "output_type": "display_data"
    },
    {
     "data": {
      "application/javascript": [
       "\n",
       "            setTimeout(function() {\n",
       "                var nbb_cell_id = 3;\n",
       "                var nbb_unformatted_code = \"@interact\\ndef do_stuff_interactively(\\n    text=\\\"text input\\\",\\n    select=[\\\"option 1\\\", \\\"option2\\\"],\\n    num=5,\\n    num_range=(3, 8),\\n    bool_tf=True,\\n):\\n    \\\"\\\"\\\"\\n    * Name the function whatever you want\\n    * Name the arguments whatever you want\\n    * @interact chooses an appropriate widget based on default args\\n    * Do whatever you want in the function code\\n    * Function will be rerun every time the input changes\\n    \\\"\\\"\\\"\\n    print(\\\"^Above widgets auto-generated by `@interact`\\\")\\n    print(\\\"\\\\n----------------------------\\\\n\\\")\\n    print(\\\"Below are the outputs of the function:\\\\n\\\")\\n\\n    print(f\\\"text: {text}\\\")\\n    print(f\\\"select: {select}\\\")\\n    print(f\\\"num: {num}\\\")\\n    print(f\\\"num_range: {num_range}\\\")\\n    print(f\\\"bool_tf: {bool_tf}\\\")\";\n",
       "                var nbb_formatted_code = \"@interact\\ndef do_stuff_interactively(\\n    text=\\\"text input\\\",\\n    select=[\\\"option 1\\\", \\\"option2\\\"],\\n    num=5,\\n    num_range=(3, 8),\\n    bool_tf=True,\\n):\\n    \\\"\\\"\\\"\\n    * Name the function whatever you want\\n    * Name the arguments whatever you want\\n    * @interact chooses an appropriate widget based on default args\\n    * Do whatever you want in the function code\\n    * Function will be rerun every time the input changes\\n    \\\"\\\"\\\"\\n    print(\\\"^Above widgets auto-generated by `@interact`\\\")\\n    print(\\\"\\\\n----------------------------\\\\n\\\")\\n    print(\\\"Below are the outputs of the function:\\\\n\\\")\\n\\n    print(f\\\"text: {text}\\\")\\n    print(f\\\"select: {select}\\\")\\n    print(f\\\"num: {num}\\\")\\n    print(f\\\"num_range: {num_range}\\\")\\n    print(f\\\"bool_tf: {bool_tf}\\\")\";\n",
       "                var nbb_cells = Jupyter.notebook.get_cells();\n",
       "                for (var i = 0; i < nbb_cells.length; ++i) {\n",
       "                    if (nbb_cells[i].input_prompt_number == nbb_cell_id) {\n",
       "                        if (nbb_cells[i].get_text() == nbb_unformatted_code) {\n",
       "                             nbb_cells[i].set_text(nbb_formatted_code);\n",
       "                        }\n",
       "                        break;\n",
       "                    }\n",
       "                }\n",
       "            }, 500);\n",
       "            "
      ],
      "text/plain": [
       "<IPython.core.display.Javascript object>"
      ]
     },
     "metadata": {},
     "output_type": "display_data"
    }
   ],
   "source": [
    "@interact\n",
    "def do_stuff_interactively(\n",
    "    text=\"text input\",\n",
    "    select=[\"option 1\", \"option2\"],\n",
    "    num=5,\n",
    "    num_range=(3, 8),\n",
    "    bool_tf=True,\n",
    "):\n",
    "    \"\"\"\n",
    "    * Name the function whatever you want\n",
    "    * Name the arguments whatever you want\n",
    "    * @interact chooses an appropriate widget based on default args\n",
    "    * Do whatever you want in the function code\n",
    "    * Function will be rerun every time the input changes\n",
    "    \"\"\"\n",
    "    print(\"^Above widgets auto-generated by `@interact`\")\n",
    "    print(\"\\n----------------------------\\n\")\n",
    "    print(\"Below are the outputs of the function:\\n\")\n",
    "\n",
    "    print(f\"text: {text}\")\n",
    "    print(f\"select: {select}\")\n",
    "    print(f\"num: {num}\")\n",
    "    print(f\"num_range: {num_range}\")\n",
    "    print(f\"bool_tf: {bool_tf}\")"
   ]
  },
  {
   "cell_type": "markdown",
   "metadata": {},
   "source": [
    "### Use widgets with plotting\n",
    "\n",
    "#### Homemade pair plot for numeric columns"
   ]
  },
  {
   "cell_type": "code",
   "execution_count": 4,
   "metadata": {},
   "outputs": [
    {
     "data": {
      "text/html": [
       "<div>\n",
       "<style scoped>\n",
       "    .dataframe tbody tr th:only-of-type {\n",
       "        vertical-align: middle;\n",
       "    }\n",
       "\n",
       "    .dataframe tbody tr th {\n",
       "        vertical-align: top;\n",
       "    }\n",
       "\n",
       "    .dataframe thead th {\n",
       "        text-align: right;\n",
       "    }\n",
       "</style>\n",
       "<table border=\"1\" class=\"dataframe\">\n",
       "  <thead>\n",
       "    <tr style=\"text-align: right;\">\n",
       "      <th></th>\n",
       "      <th>sepal_length</th>\n",
       "      <th>sepal_width</th>\n",
       "      <th>petal_length</th>\n",
       "      <th>petal_width</th>\n",
       "      <th>species</th>\n",
       "    </tr>\n",
       "  </thead>\n",
       "  <tbody>\n",
       "    <tr>\n",
       "      <th>0</th>\n",
       "      <td>5.1</td>\n",
       "      <td>3.5</td>\n",
       "      <td>1.4</td>\n",
       "      <td>0.2</td>\n",
       "      <td>setosa</td>\n",
       "    </tr>\n",
       "    <tr>\n",
       "      <th>1</th>\n",
       "      <td>4.9</td>\n",
       "      <td>3.0</td>\n",
       "      <td>1.4</td>\n",
       "      <td>0.2</td>\n",
       "      <td>setosa</td>\n",
       "    </tr>\n",
       "    <tr>\n",
       "      <th>2</th>\n",
       "      <td>4.7</td>\n",
       "      <td>3.2</td>\n",
       "      <td>1.3</td>\n",
       "      <td>0.2</td>\n",
       "      <td>setosa</td>\n",
       "    </tr>\n",
       "  </tbody>\n",
       "</table>\n",
       "</div>"
      ],
      "text/plain": [
       "   sepal_length  sepal_width  petal_length  petal_width species\n",
       "0           5.1          3.5           1.4          0.2  setosa\n",
       "1           4.9          3.0           1.4          0.2  setosa\n",
       "2           4.7          3.2           1.3          0.2  setosa"
      ]
     },
     "execution_count": 4,
     "metadata": {},
     "output_type": "execute_result"
    },
    {
     "data": {
      "application/javascript": [
       "\n",
       "            setTimeout(function() {\n",
       "                var nbb_cell_id = 4;\n",
       "                var nbb_unformatted_code = \"# Load data\\ndf = sns.load_dataset(\\\"iris\\\")\\ndf.head(3)\";\n",
       "                var nbb_formatted_code = \"# Load data\\ndf = sns.load_dataset(\\\"iris\\\")\\ndf.head(3)\";\n",
       "                var nbb_cells = Jupyter.notebook.get_cells();\n",
       "                for (var i = 0; i < nbb_cells.length; ++i) {\n",
       "                    if (nbb_cells[i].input_prompt_number == nbb_cell_id) {\n",
       "                        if (nbb_cells[i].get_text() == nbb_unformatted_code) {\n",
       "                             nbb_cells[i].set_text(nbb_formatted_code);\n",
       "                        }\n",
       "                        break;\n",
       "                    }\n",
       "                }\n",
       "            }, 500);\n",
       "            "
      ],
      "text/plain": [
       "<IPython.core.display.Javascript object>"
      ]
     },
     "metadata": {},
     "output_type": "display_data"
    }
   ],
   "source": [
    "# Load data\n",
    "df = sns.load_dataset(\"iris\")\n",
    "df.head(3)"
   ]
  },
  {
   "cell_type": "code",
   "execution_count": 5,
   "metadata": {},
   "outputs": [
    {
     "data": {
      "application/vnd.jupyter.widget-view+json": {
       "model_id": "e746d72a7843451e8ebdd8244c22ac24",
       "version_major": 2,
       "version_minor": 0
      },
      "text/plain": [
       "interactive(children=(Dropdown(description='x', options=('sepal_length', 'sepal_width', 'petal_length', 'petal…"
      ]
     },
     "metadata": {},
     "output_type": "display_data"
    },
    {
     "data": {
      "application/javascript": [
       "\n",
       "            setTimeout(function() {\n",
       "                var nbb_cell_id = 5;\n",
       "                var nbb_unformatted_code = \"# Isolate numbers\\nnums = df.select_dtypes(\\\"number\\\")\\n\\n@interact\\ndef scatterplot(x=nums.columns, y=nums.columns, hue=df.columns):\\n    sns.scatterplot(x=x, y=y, hue=hue, data=df)\\n    plt.show()\";\n",
       "                var nbb_formatted_code = \"# Isolate numbers\\nnums = df.select_dtypes(\\\"number\\\")\\n\\n\\n@interact\\ndef scatterplot(x=nums.columns, y=nums.columns, hue=df.columns):\\n    sns.scatterplot(x=x, y=y, hue=hue, data=df)\\n    plt.show()\";\n",
       "                var nbb_cells = Jupyter.notebook.get_cells();\n",
       "                for (var i = 0; i < nbb_cells.length; ++i) {\n",
       "                    if (nbb_cells[i].input_prompt_number == nbb_cell_id) {\n",
       "                        if (nbb_cells[i].get_text() == nbb_unformatted_code) {\n",
       "                             nbb_cells[i].set_text(nbb_formatted_code);\n",
       "                        }\n",
       "                        break;\n",
       "                    }\n",
       "                }\n",
       "            }, 500);\n",
       "            "
      ],
      "text/plain": [
       "<IPython.core.display.Javascript object>"
      ]
     },
     "metadata": {},
     "output_type": "display_data"
    }
   ],
   "source": [
    "# Isolate numbers\n",
    "nums = df.select_dtypes(\"number\")\n",
    "\n",
    "\n",
    "@interact\n",
    "def scatterplot(x=nums.columns, y=nums.columns, hue=df.columns):\n",
    "    sns.scatterplot(x=x, y=y, hue=hue, data=df)\n",
    "    plt.show()"
   ]
  },
  {
   "cell_type": "markdown",
   "metadata": {},
   "source": [
    "----\n",
    "\n",
    "### Play time\n",
    "\n",
    "Use either dataset below, or any other (maybe your capstone data if you have some in mind 👀).\n",
    "\n",
    "Let's explore using plotly and ipywidges"
   ]
  },
  {
   "cell_type": "code",
   "execution_count": 6,
   "metadata": {},
   "outputs": [
    {
     "data": {
      "text/html": [
       "<div>\n",
       "<style scoped>\n",
       "    .dataframe tbody tr th:only-of-type {\n",
       "        vertical-align: middle;\n",
       "    }\n",
       "\n",
       "    .dataframe tbody tr th {\n",
       "        vertical-align: top;\n",
       "    }\n",
       "\n",
       "    .dataframe thead th {\n",
       "        text-align: right;\n",
       "    }\n",
       "</style>\n",
       "<table border=\"1\" class=\"dataframe\">\n",
       "  <thead>\n",
       "    <tr style=\"text-align: right;\">\n",
       "      <th></th>\n",
       "      <th>10k</th>\n",
       "      <th>name</th>\n",
       "      <th>division</th>\n",
       "      <th>25k</th>\n",
       "      <th>gender</th>\n",
       "      <th>age</th>\n",
       "      <th>official</th>\n",
       "      <th>bib</th>\n",
       "      <th>genderdiv</th>\n",
       "      <th>35k</th>\n",
       "      <th>overall</th>\n",
       "      <th>pace</th>\n",
       "      <th>state</th>\n",
       "      <th>30k</th>\n",
       "      <th>5k</th>\n",
       "      <th>half</th>\n",
       "      <th>20k</th>\n",
       "      <th>country</th>\n",
       "      <th>city</th>\n",
       "      <th>40k</th>\n",
       "    </tr>\n",
       "  </thead>\n",
       "  <tbody>\n",
       "    <tr>\n",
       "      <th>0</th>\n",
       "      <td>17.37</td>\n",
       "      <td>Yamamoto, Hiroyuki</td>\n",
       "      <td>8</td>\n",
       "      <td>47.67</td>\n",
       "      <td>M</td>\n",
       "      <td>47</td>\n",
       "      <td>85.25</td>\n",
       "      <td>W1</td>\n",
       "      <td>8</td>\n",
       "      <td>71.40</td>\n",
       "      <td>8</td>\n",
       "      <td>3.27</td>\n",
       "      <td>Not US/CAN</td>\n",
       "      <td>59.18</td>\n",
       "      <td>8.02</td>\n",
       "      <td>39.72</td>\n",
       "      <td>37.65</td>\n",
       "      <td>JPN</td>\n",
       "      <td>Fukuoka</td>\n",
       "      <td>80.43</td>\n",
       "    </tr>\n",
       "    <tr>\n",
       "      <th>1</th>\n",
       "      <td>32.58</td>\n",
       "      <td>Jeptoo, Rita</td>\n",
       "      <td>1</td>\n",
       "      <td>82.43</td>\n",
       "      <td>F</td>\n",
       "      <td>33</td>\n",
       "      <td>138.95</td>\n",
       "      <td>F1</td>\n",
       "      <td>1</td>\n",
       "      <td>116.37</td>\n",
       "      <td>21</td>\n",
       "      <td>5.30</td>\n",
       "      <td>Not US/CAN</td>\n",
       "      <td>99.33</td>\n",
       "      <td>16.22</td>\n",
       "      <td>69.47</td>\n",
       "      <td>65.83</td>\n",
       "      <td>KEN</td>\n",
       "      <td>Eldoret</td>\n",
       "      <td>132.10</td>\n",
       "    </tr>\n",
       "    <tr>\n",
       "      <th>2</th>\n",
       "      <td>16.62</td>\n",
       "      <td>Van Dyk, Ernst F.</td>\n",
       "      <td>1</td>\n",
       "      <td>45.80</td>\n",
       "      <td>M</td>\n",
       "      <td>41</td>\n",
       "      <td>80.60</td>\n",
       "      <td>W2</td>\n",
       "      <td>1</td>\n",
       "      <td>67.42</td>\n",
       "      <td>1</td>\n",
       "      <td>3.08</td>\n",
       "      <td>Not US/CAN</td>\n",
       "      <td>56.45</td>\n",
       "      <td>7.75</td>\n",
       "      <td>38.03</td>\n",
       "      <td>36.10</td>\n",
       "      <td>RSA</td>\n",
       "      <td>Paarl</td>\n",
       "      <td>76.10</td>\n",
       "    </tr>\n",
       "  </tbody>\n",
       "</table>\n",
       "</div>"
      ],
      "text/plain": [
       "     10k                name  division    25k gender  age  official bib  \\\n",
       "0  17.37  Yamamoto, Hiroyuki         8  47.67      M   47     85.25  W1   \n",
       "1  32.58        Jeptoo, Rita         1  82.43      F   33    138.95  F1   \n",
       "2  16.62   Van Dyk, Ernst F.         1  45.80      M   41     80.60  W2   \n",
       "\n",
       "   genderdiv     35k  overall  pace       state    30k     5k   half    20k  \\\n",
       "0          8   71.40        8  3.27  Not US/CAN  59.18   8.02  39.72  37.65   \n",
       "1          1  116.37       21  5.30  Not US/CAN  99.33  16.22  69.47  65.83   \n",
       "2          1   67.42        1  3.08  Not US/CAN  56.45   7.75  38.03  36.10   \n",
       "\n",
       "  country     city     40k  \n",
       "0     JPN  Fukuoka   80.43  \n",
       "1     KEN  Eldoret  132.10  \n",
       "2     RSA    Paarl   76.10  "
      ]
     },
     "execution_count": 6,
     "metadata": {},
     "output_type": "execute_result"
    },
    {
     "data": {
      "application/javascript": [
       "\n",
       "            setTimeout(function() {\n",
       "                var nbb_cell_id = 6;\n",
       "                var nbb_unformatted_code = \"marathon_data_url = \\\"https://github.com/jhl126/bostonmarathon/blob/master/results/2014/results.csv?raw=true\\\"\\n\\nmarathon = pd.read_csv(marathon_data_url)\\nmarathon = marathon.drop(columns=[\\\"ctz\\\"])\\n\\n# dashes representing missing values in the time columns\\n# replace them with na\\nmarathon = marathon.replace(\\\"-\\\", np.nan)\\n\\n# Not dropping missing values from state\\n# as its really not missing, just indicates\\n# theyre not from USA or Canada\\nmarathon[\\\"state\\\"] = marathon[\\\"state\\\"].fillna(\\\"Not US/CAN\\\")\\n\\n# drop rows with NAs\\n# (time columns and city are only cols with NA at this point)\\nmarathon = marathon.dropna()\\n\\n# Try to change all columns to numeric\\n# if theres an error, ignore it and move to next column\\nmarathon = marathon.apply(pd.to_numeric, errors=\\\"ignore\\\")\\n\\nmarathon.head(3)\";\n",
       "                var nbb_formatted_code = \"marathon_data_url = \\\"https://github.com/jhl126/bostonmarathon/blob/master/results/2014/results.csv?raw=true\\\"\\n\\nmarathon = pd.read_csv(marathon_data_url)\\nmarathon = marathon.drop(columns=[\\\"ctz\\\"])\\n\\n# dashes representing missing values in the time columns\\n# replace them with na\\nmarathon = marathon.replace(\\\"-\\\", np.nan)\\n\\n# Not dropping missing values from state\\n# as its really not missing, just indicates\\n# theyre not from USA or Canada\\nmarathon[\\\"state\\\"] = marathon[\\\"state\\\"].fillna(\\\"Not US/CAN\\\")\\n\\n# drop rows with NAs\\n# (time columns and city are only cols with NA at this point)\\nmarathon = marathon.dropna()\\n\\n# Try to change all columns to numeric\\n# if theres an error, ignore it and move to next column\\nmarathon = marathon.apply(pd.to_numeric, errors=\\\"ignore\\\")\\n\\nmarathon.head(3)\";\n",
       "                var nbb_cells = Jupyter.notebook.get_cells();\n",
       "                for (var i = 0; i < nbb_cells.length; ++i) {\n",
       "                    if (nbb_cells[i].input_prompt_number == nbb_cell_id) {\n",
       "                        if (nbb_cells[i].get_text() == nbb_unformatted_code) {\n",
       "                             nbb_cells[i].set_text(nbb_formatted_code);\n",
       "                        }\n",
       "                        break;\n",
       "                    }\n",
       "                }\n",
       "            }, 500);\n",
       "            "
      ],
      "text/plain": [
       "<IPython.core.display.Javascript object>"
      ]
     },
     "metadata": {},
     "output_type": "display_data"
    }
   ],
   "source": [
    "marathon_data_url = \"https://github.com/jhl126/bostonmarathon/blob/master/results/2014/results.csv?raw=true\"\n",
    "\n",
    "marathon = pd.read_csv(marathon_data_url)\n",
    "marathon = marathon.drop(columns=[\"ctz\"])\n",
    "\n",
    "# dashes representing missing values in the time columns\n",
    "# replace them with na\n",
    "marathon = marathon.replace(\"-\", np.nan)\n",
    "\n",
    "# Not dropping missing values from state\n",
    "# as its really not missing, just indicates\n",
    "# theyre not from USA or Canada\n",
    "marathon[\"state\"] = marathon[\"state\"].fillna(\"Not US/CAN\")\n",
    "\n",
    "# drop rows with NAs\n",
    "# (time columns and city are only cols with NA at this point)\n",
    "marathon = marathon.dropna()\n",
    "\n",
    "# Try to change all columns to numeric\n",
    "# if theres an error, ignore it and move to next column\n",
    "marathon = marathon.apply(pd.to_numeric, errors=\"ignore\")\n",
    "\n",
    "marathon.head(3)"
   ]
  },
  {
   "cell_type": "code",
   "execution_count": 7,
   "metadata": {},
   "outputs": [
    {
     "data": {
      "text/html": [
       "<div>\n",
       "<style scoped>\n",
       "    .dataframe tbody tr th:only-of-type {\n",
       "        vertical-align: middle;\n",
       "    }\n",
       "\n",
       "    .dataframe tbody tr th {\n",
       "        vertical-align: top;\n",
       "    }\n",
       "\n",
       "    .dataframe thead th {\n",
       "        text-align: right;\n",
       "    }\n",
       "</style>\n",
       "<table border=\"1\" class=\"dataframe\">\n",
       "  <thead>\n",
       "    <tr style=\"text-align: right;\">\n",
       "      <th></th>\n",
       "      <th>Seas</th>\n",
       "      <th>Player</th>\n",
       "      <th>Pos</th>\n",
       "      <th>Age</th>\n",
       "      <th>Tm</th>\n",
       "      <th>G</th>\n",
       "      <th>GS</th>\n",
       "      <th>MP</th>\n",
       "      <th>FG</th>\n",
       "      <th>FGA</th>\n",
       "      <th>...</th>\n",
       "      <th>FT%</th>\n",
       "      <th>ORB</th>\n",
       "      <th>DRB</th>\n",
       "      <th>TRB</th>\n",
       "      <th>AST</th>\n",
       "      <th>STL</th>\n",
       "      <th>BLK</th>\n",
       "      <th>TOV</th>\n",
       "      <th>PF</th>\n",
       "      <th>PTS</th>\n",
       "    </tr>\n",
       "  </thead>\n",
       "  <tbody>\n",
       "    <tr>\n",
       "      <th>0</th>\n",
       "      <td>2019</td>\n",
       "      <td>Álex Abrines</td>\n",
       "      <td>SG</td>\n",
       "      <td>25</td>\n",
       "      <td>OKC</td>\n",
       "      <td>31</td>\n",
       "      <td>2</td>\n",
       "      <td>19.0</td>\n",
       "      <td>1.8</td>\n",
       "      <td>5.1</td>\n",
       "      <td>...</td>\n",
       "      <td>0.923</td>\n",
       "      <td>0.2</td>\n",
       "      <td>1.4</td>\n",
       "      <td>1.5</td>\n",
       "      <td>0.6</td>\n",
       "      <td>0.5</td>\n",
       "      <td>0.2</td>\n",
       "      <td>0.5</td>\n",
       "      <td>1.7</td>\n",
       "      <td>5.3</td>\n",
       "    </tr>\n",
       "    <tr>\n",
       "      <th>1</th>\n",
       "      <td>2019</td>\n",
       "      <td>Quincy Acy</td>\n",
       "      <td>PF</td>\n",
       "      <td>28</td>\n",
       "      <td>PHO</td>\n",
       "      <td>10</td>\n",
       "      <td>0</td>\n",
       "      <td>12.3</td>\n",
       "      <td>0.4</td>\n",
       "      <td>1.8</td>\n",
       "      <td>...</td>\n",
       "      <td>0.700</td>\n",
       "      <td>0.3</td>\n",
       "      <td>2.2</td>\n",
       "      <td>2.5</td>\n",
       "      <td>0.8</td>\n",
       "      <td>0.1</td>\n",
       "      <td>0.4</td>\n",
       "      <td>0.4</td>\n",
       "      <td>2.4</td>\n",
       "      <td>1.7</td>\n",
       "    </tr>\n",
       "    <tr>\n",
       "      <th>2</th>\n",
       "      <td>2019</td>\n",
       "      <td>Jaylen Adams</td>\n",
       "      <td>PG</td>\n",
       "      <td>22</td>\n",
       "      <td>ATL</td>\n",
       "      <td>34</td>\n",
       "      <td>1</td>\n",
       "      <td>12.6</td>\n",
       "      <td>1.1</td>\n",
       "      <td>3.2</td>\n",
       "      <td>...</td>\n",
       "      <td>0.778</td>\n",
       "      <td>0.3</td>\n",
       "      <td>1.4</td>\n",
       "      <td>1.8</td>\n",
       "      <td>1.9</td>\n",
       "      <td>0.4</td>\n",
       "      <td>0.1</td>\n",
       "      <td>0.8</td>\n",
       "      <td>1.3</td>\n",
       "      <td>3.2</td>\n",
       "    </tr>\n",
       "  </tbody>\n",
       "</table>\n",
       "<p>3 rows × 30 columns</p>\n",
       "</div>"
      ],
      "text/plain": [
       "   Seas        Player Pos  Age   Tm   G  GS    MP   FG  FGA  ...    FT%  ORB  \\\n",
       "0  2019  Álex Abrines  SG   25  OKC  31   2  19.0  1.8  5.1  ...  0.923  0.2   \n",
       "1  2019    Quincy Acy  PF   28  PHO  10   0  12.3  0.4  1.8  ...  0.700  0.3   \n",
       "2  2019  Jaylen Adams  PG   22  ATL  34   1  12.6  1.1  3.2  ...  0.778  0.3   \n",
       "\n",
       "   DRB  TRB  AST  STL  BLK  TOV   PF  PTS  \n",
       "0  1.4  1.5  0.6  0.5  0.2  0.5  1.7  5.3  \n",
       "1  2.2  2.5  0.8  0.1  0.4  0.4  2.4  1.7  \n",
       "2  1.4  1.8  1.9  0.4  0.1  0.8  1.3  3.2  \n",
       "\n",
       "[3 rows x 30 columns]"
      ]
     },
     "execution_count": 7,
     "metadata": {},
     "output_type": "execute_result"
    },
    {
     "data": {
      "application/javascript": [
       "\n",
       "            setTimeout(function() {\n",
       "                var nbb_cell_id = 7;\n",
       "                var nbb_unformatted_code = \"data_url = \\\"https://tf-assets-prod.s3.amazonaws.com/tf-curric/data-science/Data%20Sets%20Clustering/nba_player_seasons.csv\\\"\\nnba = pd.read_csv(data_url).dropna()\\nnba.head(3)\";\n",
       "                var nbb_formatted_code = \"data_url = \\\"https://tf-assets-prod.s3.amazonaws.com/tf-curric/data-science/Data%20Sets%20Clustering/nba_player_seasons.csv\\\"\\nnba = pd.read_csv(data_url).dropna()\\nnba.head(3)\";\n",
       "                var nbb_cells = Jupyter.notebook.get_cells();\n",
       "                for (var i = 0; i < nbb_cells.length; ++i) {\n",
       "                    if (nbb_cells[i].input_prompt_number == nbb_cell_id) {\n",
       "                        if (nbb_cells[i].get_text() == nbb_unformatted_code) {\n",
       "                             nbb_cells[i].set_text(nbb_formatted_code);\n",
       "                        }\n",
       "                        break;\n",
       "                    }\n",
       "                }\n",
       "            }, 500);\n",
       "            "
      ],
      "text/plain": [
       "<IPython.core.display.Javascript object>"
      ]
     },
     "metadata": {},
     "output_type": "display_data"
    }
   ],
   "source": [
    "data_url = \"https://tf-assets-prod.s3.amazonaws.com/tf-curric/data-science/Data%20Sets%20Clustering/nba_player_seasons.csv\"\n",
    "nba = pd.read_csv(data_url).dropna()\n",
    "nba.head(3)"
   ]
  },
  {
   "cell_type": "code",
   "execution_count": null,
   "metadata": {},
   "outputs": [],
   "source": []
  }
 ],
 "metadata": {
  "kernelspec": {
   "display_name": "Python 3",
   "language": "python",
   "name": "python3"
  },
  "language_info": {
   "codemirror_mode": {
    "name": "ipython",
    "version": 3
   },
   "file_extension": ".py",
   "mimetype": "text/x-python",
   "name": "python",
   "nbconvert_exporter": "python",
   "pygments_lexer": "ipython3",
   "version": "3.8.3"
  }
 },
 "nbformat": 4,
 "nbformat_minor": 2
}
